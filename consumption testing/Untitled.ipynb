{
 "cells": [
  {
   "cell_type": "code",
   "execution_count": null,
   "metadata": {},
   "outputs": [],
   "source": [
    "from __future__ import print_function\n",
    "import time\n",
    "import re\n",
    "import json\n",
    "import argparse\n",
    "import sys\n",
    "from kafka import KafkaProducer\n",
    "\n",
    "\n",
    "\n",
    "def send_message(producer, topic, input):\n",
    "     \n",
    "     with open(input, 'r') as ins:\n",
    "             for line in ins:\n",
    "                     value1 = map(''.join, re.findall(r'\\\"(.*?)\\\"|\\[(.*?)\\]|(\\S+)', line))\n",
    "                     producer.send(topic, json.dumps({'remote_host': value1[0], 'user-identifier': value1[1], 'frank': value1[2], 'time_received': value1[3],'request_first_line': value1[4],'status': value1[5],'size_bytes': value1[6],'request_header_referer': value1[7],'request_header_user_agent': value1[8]}))\n",
    "\n",
    "\n",
    "if __name__ == '__main__':\n",
    "\tparser = argparse.ArgumentParser()\n",
    "\tparser.add_argument('-rh', '--host', default=\"127.0.0.1:9092\")\n",
    "\tparser.add_argument('-t', '--topic', default='word')\n",
    "\tparser.add_argument('-i', '--input', required=True)\n",
    "\targs = parser.parse_args()\n",
    "\t\n",
    "\tproducer = KafkaProducer(bootstrap_servers=args.host)\n",
    "\tsend_message(producer, args.topic, args.input)"
   ]
  }
 ],
 "metadata": {
  "kernelspec": {
   "display_name": "Python 3",
   "language": "python",
   "name": "python3"
  },
  "language_info": {
   "codemirror_mode": {
    "name": "ipython",
    "version": 3
   },
   "file_extension": ".py",
   "mimetype": "text/x-python",
   "name": "python",
   "nbconvert_exporter": "python",
   "pygments_lexer": "ipython3",
   "version": "3.7.6"
  }
 },
 "nbformat": 4,
 "nbformat_minor": 4
}
