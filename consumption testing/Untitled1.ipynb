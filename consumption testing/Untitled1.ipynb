{
 "cells": [
  {
   "cell_type": "code",
   "execution_count": 4,
   "metadata": {},
   "outputs": [
    {
     "ename": "SyntaxError",
     "evalue": "invalid syntax (<ipython-input-4-dcfa60c6b186>, line 16)",
     "output_type": "error",
     "traceback": [
      "\u001b[0;36m  File \u001b[0;32m\"<ipython-input-4-dcfa60c6b186>\"\u001b[0;36m, line \u001b[0;32m16\u001b[0m\n\u001b[0;31m    producer.send(topic, json.dumps({'Date': value1[0]}))\u001b[0m\n\u001b[0m           ^\u001b[0m\n\u001b[0;31mSyntaxError\u001b[0m\u001b[0;31m:\u001b[0m invalid syntax\n"
     ]
    }
   ],
   "source": [
    "#from __future__ import print_function\n",
    "import time\n",
    "import re\n",
    "import json\n",
    "import argparse\n",
    "import sys\n",
    "from kafka import KafkaProducer\n",
    "\n",
    "\n",
    "\n",
    "def send_message(producer, topic, input):\n",
    "     \n",
    "     with open(\"trainingdata.txt\", 'r') as ins:\n",
    "             for line in ins:\n",
    "                    value1 = map((line.split(';'))\n",
    "                    producer.send(topic, json.dumps({'Date': value1[0]}))\n",
    "\n",
    "if __name__ == '__main__':\n",
    "    parser = argparse.ArgumentParser()\n",
    "    parser.add_argument('-rh', '--host', default=\"127.0.0.1:9092\")\n",
    "    parser.add_argument('-t', '--topic', default='word')\n",
    "    parser.add_argument('-i', '--input', required=True)\n",
    "    args = parser.parse_args()                            \n",
    "    producer = KafkaProducer(bootstrap_servers=args.host)\n",
    "    send_message(producer, args.topic, args.input)"
   ]
  },
  {
   "cell_type": "code",
   "execution_count": null,
   "metadata": {},
   "outputs": [],
   "source": []
  }
 ],
 "metadata": {
  "kernelspec": {
   "display_name": "Python 3",
   "language": "python",
   "name": "python3"
  },
  "language_info": {
   "codemirror_mode": {
    "name": "ipython",
    "version": 3
   },
   "file_extension": ".py",
   "mimetype": "text/x-python",
   "name": "python",
   "nbconvert_exporter": "python",
   "pygments_lexer": "ipython3",
   "version": "3.7.6"
  }
 },
 "nbformat": 4,
 "nbformat_minor": 4
}
