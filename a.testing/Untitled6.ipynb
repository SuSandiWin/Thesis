{
 "cells": [
  {
   "cell_type": "code",
   "execution_count": 1,
   "metadata": {},
   "outputs": [
    {
     "name": "stderr",
     "output_type": "stream",
     "text": [
      "usage: ipykernel_launcher.py [-h] [-rh HOST] [-t TOPIC] -i INPUT\n",
      "ipykernel_launcher.py: error: argument -i/--input is required\n"
     ]
    },
    {
     "ename": "SystemExit",
     "evalue": "2",
     "output_type": "error",
     "traceback": [
      "An exception has occurred, use %tb to see the full traceback.\n",
      "\u001b[0;31mSystemExit\u001b[0m\u001b[0;31m:\u001b[0m 2\n"
     ]
    },
    {
     "name": "stderr",
     "output_type": "stream",
     "text": [
      "/home/susandiwin/anaconda3/envs/py27/lib/python2.7/site-packages/IPython/core/interactiveshell.py:2886: UserWarning: To exit: use 'exit', 'quit', or Ctrl-D.\n",
      "  warn(\"To exit: use 'exit', 'quit', or Ctrl-D.\", stacklevel=1)\n"
     ]
    }
   ],
   "source": [
    "from __future__ import print_function\n",
    "import time\n",
    "import re\n",
    "import json\n",
    "import argparse\n",
    "import sys\n",
    "from kafka import KafkaProducer\n",
    "\n",
    "\n",
    "def send_message(producer, topic, input):\n",
    "    with open(input, 'r') as ins:\n",
    "        for line in ins:\n",
    "            value1 = map(''.join, re.findall(r'\\\"(.*?)\\\"|\\[(.*?)\\]|(\\S+)', line))\n",
    "            producer.send(topic, json.dumps(\n",
    "                {'remote_host': value1[0], 'user-identifier': value1[1], 'frank': value1[2], 'time_received': value1[3],\n",
    "                 'request_first_line': value1[4], 'status': value1[5], 'size_bytes': value1[6],\n",
    "                 'request_header_referer': value1[7], 'request_header_user_agent': value1[8]}))\n",
    "\n",
    "\n",
    "if __name__ == '__main__':\n",
    "    parser = argparse.ArgumentParser()\n",
    "    parser.add_argument('-rh', '--host', default=\"127.0.0.1:9092\")\n",
    "    parser.add_argument('-t', '--topic', default='kafkafirst')\n",
    "    parser.add_argument('-i', '--input', required=True)\n",
    "    args = parser.parse_args()\n",
    "\n",
    "    producer = KafkaProducer(bootstrap_servers=args.host)\n",
    "    send_message(producer, args.topic, args.input)"
   ]
  },
  {
   "cell_type": "code",
   "execution_count": null,
   "metadata": {},
   "outputs": [],
   "source": []
  }
 ],
 "metadata": {
  "kernelspec": {
   "display_name": "Python 3",
   "language": "python",
   "name": "python3"
  },
  "language_info": {
   "codemirror_mode": {
    "name": "ipython",
    "version": 2
   },
   "file_extension": ".py",
   "mimetype": "text/x-python",
   "name": "python",
   "nbconvert_exporter": "python",
   "pygments_lexer": "ipython2",
   "version": "2.7.18"
  }
 },
 "nbformat": 4,
 "nbformat_minor": 2
}
