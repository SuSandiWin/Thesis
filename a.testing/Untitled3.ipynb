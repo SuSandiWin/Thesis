{
 "cells": [
  {
   "cell_type": "code",
   "execution_count": 1,
   "metadata": {},
   "outputs": [
    {
     "name": "stdout",
     "output_type": "stream",
     "text": [
      "Successfully sent data to kafka topic\n",
      "Successfully sent data to kafka topic\n",
      "Successfully sent data to kafka topic\n",
      "Successfully sent data to kafka topic\n",
      "Successfully sent data to kafka topic\n",
      "Successfully sent data to kafka topic\n",
      "Successfully sent data to kafka topic\n",
      "Successfully sent data to kafka topic\n",
      "Successfully sent data to kafka topic\n",
      "Successfully sent data to kafka topic\n"
     ]
    }
   ],
   "source": [
    "from time import sleep\n",
    "from json import dumps\n",
    "from kafka import KafkaProducer\n",
    "import pandas as pd\n",
    "import json\n",
    "import csv\n",
    "producer=KafkaProducer(bootstrap_servers=['localhost:9092'],value_serializer=lambda x:dumps(x).encode('utf-8'))\n",
    "with open(\"covid.csv\")as file:\n",
    "    reader=csv.DictReader(file,delimiter=\",\")\n",
    "    for row in reader:\n",
    "        data=json.dumps(row)\n",
    "        producer.send('kafkafirst',value=data)\n",
    "        sleep(1)\n",
    "        print(\"Successfully sent data to kafka topic\")"
   ]
  },
  {
   "cell_type": "code",
   "execution_count": null,
   "metadata": {},
   "outputs": [],
   "source": []
  }
 ],
 "metadata": {
  "kernelspec": {
   "display_name": "Python 3",
   "language": "python",
   "name": "python3"
  },
  "language_info": {
   "codemirror_mode": {
    "name": "ipython",
    "version": 2
   },
   "file_extension": ".py",
   "mimetype": "text/x-python",
   "name": "python",
   "nbconvert_exporter": "python",
   "pygments_lexer": "ipython2",
   "version": "2.7.18"
  }
 },
 "nbformat": 4,
 "nbformat_minor": 2
}
