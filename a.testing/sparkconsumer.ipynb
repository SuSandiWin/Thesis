{
 "cells": [
  {
   "cell_type": "code",
   "execution_count": 3,
   "metadata": {},
   "outputs": [
    {
     "ename": "SyntaxError",
     "evalue": "invalid character in identifier (<ipython-input-3-d80511c0bac3>, line 17)",
     "output_type": "error",
     "traceback": [
      "\u001b[0;36m  File \u001b[0;32m\"<ipython-input-3-d80511c0bac3>\"\u001b[0;36m, line \u001b[0;32m17\u001b[0m\n\u001b[0;31m    kafka_stream = KafkaUtils.createStream(ssc,\"localhost:2181\",”raw-event-streaming-consumer”,{“kafkafirst”:1})\u001b[0m\n\u001b[0m                                                                   ^\u001b[0m\n\u001b[0;31mSyntaxError\u001b[0m\u001b[0;31m:\u001b[0m invalid character in identifier\n"
     ]
    }
   ],
   "source": [
    "import sys\n",
    "import os\n",
    "os.environ['PYSPARK_SUBMIT_ARGS'] = '--packages org.apache.spark:spark-streaming-kafka-0-8_2.11:2.0.2 pyspark-shell'\n",
    "from pyspark import SparkContext,SparkConf\n",
    "from pyspark.streaming import StreamingContext\n",
    "from pyspark.streaming.kafka import KafkaUtils\n",
    "from uuid import uuid1\n",
    "import json\n",
    "from pyspark.mllib.clustering import StreamingKMeans\n",
    "from pyspark.mllib.linalg import SparseVector,DenseVector\n",
    "from pyspark.sql import SQLContext,SparkSession\n",
    "\n",
    "sc=SparkContext(appName=\"SparkStreaming\")\n",
    "spark=SparkSession.builder.appName(\"Spark-kafka-Integration\").master(\"local\").getOrCreate()\n",
    "ssc=StreamingContext(sc,10)\n",
    "\n",
    "kafka_stream = KafkaUtils.createStream(ssc,\"localhost:2181\",”raw_event_streaming_consumer”,{“kafkafirst”:1})\n",
    "raw = kafka_stream.flatMap(lambda kafkaS: [kafkaS])\n",
    "lines = raw.map(lambda xs: xs[1].split(“|”))\n",
    "lines.pprint()\n",
    "ssc.start()\n",
    "ssc.awaitTermination()"
   ]
  },
  {
   "cell_type": "code",
   "execution_count": null,
   "metadata": {},
   "outputs": [],
   "source": []
  }
 ],
 "metadata": {
  "kernelspec": {
   "display_name": "Python 3",
   "language": "python",
   "name": "python3"
  },
  "language_info": {
   "codemirror_mode": {
    "name": "ipython",
    "version": 3
   },
   "file_extension": ".py",
   "mimetype": "text/x-python",
   "name": "python",
   "nbconvert_exporter": "python",
   "pygments_lexer": "ipython3",
   "version": "3.7.6"
  }
 },
 "nbformat": 4,
 "nbformat_minor": 4
}
